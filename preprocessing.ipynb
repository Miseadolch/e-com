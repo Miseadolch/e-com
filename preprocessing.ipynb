{
 "cells": [
  {
   "cell_type": "code",
   "execution_count": 228,
   "id": "7c9e368a-d7c9-46f9-9c97-4993f2539a57",
   "metadata": {},
   "outputs": [],
   "source": [
    "import pandas as pd\n",
    "import numpy as np\n",
    "import chardet\n",
    "import matplotlib.pyplot as plt\n",
    "import seaborn as sns\n",
    "import datetime\n",
    "from sklearn.model_selection import train_test_split\n",
    "from sklearn.linear_model import LinearRegression\n",
    "from sklearn.preprocessing import OneHotEncoder\n",
    "from sklearn.metrics import r2_score, mean_absolute_error, mean_squared_error, mean_absolute_percentage_error"
   ]
  },
  {
   "cell_type": "code",
   "execution_count": 229,
   "id": "601e85f2-06d0-4190-bbde-50d1d2aca94b",
   "metadata": {},
   "outputs": [],
   "source": [
    "df = pd.read_csv(\"ecom_yl.csv\", sep=\",\", decimal='.')"
   ]
  },
  {
   "cell_type": "code",
   "execution_count": 230,
   "id": "9b862c3a-7b7c-43a1-ba5a-6f935ccaf5d5",
   "metadata": {},
   "outputs": [],
   "source": [
    "#приводим названия столбцов в формат PEP8\n",
    "\n",
    "df.columns = df.columns.str.lower().str.replace(' ', '_')"
   ]
  },
  {
   "cell_type": "code",
   "execution_count": 231,
   "id": "7d63fb76-9a87-404e-9d4e-4ef6132ed1ef",
   "metadata": {},
   "outputs": [],
   "source": [
    "def time(row):\n",
    "    times = {\n",
    "        'morning': [datetime.time(hour=6), datetime.time(hour=9, minute=59)],\n",
    "        'day': [datetime.time(hour=10), datetime.time(hour=16, minute=59)],\n",
    "        'evening': [datetime.time(hour=17), datetime.time(hour=21, minute=59)],\n",
    "        'night': [datetime.time(hour=22), datetime.time(hour=5, minute=59)]\n",
    "    }\n",
    "    a = row.session_start.time\n",
    "    b = row.session_end.time\n",
    "    for i in times.keys:\n",
    "        if a >= times[i][0] and b <= times[i][1]:\n",
    "            return i\n",
    "        if a >= times[i][0] and b > times[i][1]:\n",
    "            if row.sessiondurationsec / 2 <= (times[i][1] - a).seconds:\n",
    "                return i\n",
    "        if a <= times[i][0] and b >= times[i][1]:\n",
    "            return i\n",
    "        if a < times[i][0] and b <= times[i][1]:\n",
    "            if row.sessiondurationsec / 2 <= (b - times[i][0]).seconds:\n",
    "                return i"
   ]
  },
  {
   "cell_type": "code",
   "execution_count": 232,
   "id": "ac2853ff-c346-47ba-9a4f-41ef5a097d0c",
   "metadata": {},
   "outputs": [],
   "source": [
    "#исправляем неправильные названия в region\n",
    "\n",
    "dict_regions = {'United States':'United States', 'Frаnce':'France', 'Unjted States' : 'United States', 'Germany' : 'Germany', \n",
    "               'UK' : 'UK', 'France':'France', 'Frаncе': 'France', 'germany':'Germany', 'UК':'UK'}\n",
    "df[\"region\"] = df[\"region\"].map(dict_regions)"
   ]
  },
  {
   "cell_type": "code",
   "execution_count": 233,
   "id": "1353c8c7-e865-4538-8fa1-43164b4888b9",
   "metadata": {},
   "outputs": [],
   "source": [
    "#исправляем неправильные названия в channel\n",
    "\n",
    "dict_channels = {'социальные сети' : 'социальные сети', 'organic':'organic', 'реклама у блогеров':'реклама у блогеров', \n",
    "                 'контексная реклама' : 'контекстная реклама', 'контекстная реклама':'контекстная реклама', 'email-рассылки':'email-рассылки'}\n",
    "df[\"channel\"] = df[\"channel\"].map(dict_channels)"
   ]
  },
  {
   "cell_type": "code",
   "execution_count": 234,
   "id": "134c1f8f-09f8-4474-b51d-cc1fd22ae07d",
   "metadata": {},
   "outputs": [],
   "source": [
    "#исправляем неправильные названия в device\n",
    "\n",
    "dict_devices = {'iPhone' : 'iPhone', 'PC' : 'PC', 'Mac' : 'Mac', 'Android' : 'Android', 'android' : 'Android'}\n",
    "df[\"device\"] = df[\"device\"].map(dict_devices)"
   ]
  },
  {
   "cell_type": "code",
   "execution_count": 235,
   "id": "24cf0955-9f8f-408d-8227-683aa892099c",
   "metadata": {},
   "outputs": [],
   "source": [
    "#убираем выбросы у SessionDuration с помощью 3-ного интерквартильного размаха\n",
    "\n",
    "def transformed(x):\n",
    "    i_quant = x.quantile(0.75) - x.quantile(0.25)\n",
    "    k = x > (x.quantile(0.75) + i_quant * 3)\n",
    "    x[k] = x.median()\n",
    "    return x\n",
    "    \n",
    "df[\"sessiondurationsec\"] = df.groupby(\"channel\", group_keys=False)[\"sessiondurationsec\"].transform(transformed)\n",
    "df['revenue'] = df['revenue'].apply(lambda x: 4999 if (x == 100000) or (x == 1) else x)"
   ]
  },
  {
   "cell_type": "code",
   "execution_count": 236,
   "id": "11a4a757-1cc3-465b-b654-891a4aab8f0b",
   "metadata": {},
   "outputs": [],
   "source": [
    "#переводим даты из строкого формата в datetime\n",
    "\n",
    "df['session_start'] = pd.to_datetime(df['session_start'])\n",
    "df['session_end'] = pd.to_datetime(df['session_end'])"
   ]
  },
  {
   "cell_type": "code",
   "execution_count": 237,
   "id": "6cbf92e1-23fc-478f-ace7-188c91a0a166",
   "metadata": {},
   "outputs": [],
   "source": [
    "#заполняем пропуски в SessionDurationSec\n",
    "\n",
    "df['sessiondurationsec'] = (df['session_end'] - df['session_start']).dt.total_seconds()"
   ]
  },
  {
   "cell_type": "code",
   "execution_count": 238,
   "id": "709ccea8-2748-4b56-884c-1d35de842267",
   "metadata": {},
   "outputs": [],
   "source": [
    "#Удаляем сессии длящиеся 5 секунд и меньше, в которых не было покупок\n",
    "\n",
    "df = df[(df[\"sessiondurationsec\"] > 5) | ((df[\"sessiondurationsec\"] <= 5) & (df['revenue'].notna()))]"
   ]
  },
  {
   "cell_type": "code",
   "execution_count": 239,
   "id": "af290d44-a34f-4f08-baeb-93402c4d5e80",
   "metadata": {},
   "outputs": [],
   "source": [
    "# число явных дубликатов и их удаление\n",
    "i_see_it = len(df) - len(df.drop_duplicates())\n",
    "#print(i_see_it) -> 3\n",
    "df = df.drop_duplicates()"
   ]
  },
  {
   "cell_type": "code",
   "execution_count": 240,
   "id": "a8e89042-3a29-4144-bdf1-314e0db71bd9",
   "metadata": {},
   "outputs": [],
   "source": [
    "# заполнение пропусков\n",
    "stupid_nans = df.groupby(['month'])['region']\n",
    "df['region'] = df['region'].fillna(lambda x: stupid_nans[x])\n",
    "stupid_nans = df.groupby(['month'])['device']\n",
    "df['device'] = df['device'].fillna(lambda x: stupid_nans[x])\n",
    "stupid_nans = df.groupby(['month'])['channel']\n",
    "df['channel'] = df['channel'].fillna(lambda x: stupid_nans[x])"
   ]
  },
  {
   "cell_type": "code",
   "execution_count": 241,
   "id": "ef6ac091-ef6a-4a6a-af98-d1580976b698",
   "metadata": {},
   "outputs": [],
   "source": [
    "#очищение неправильных данных в promo_code\n",
    "df['promo_code'] = df['promo_code'].map(lambda x: 1 if not pd.isna(x) and x else x)"
   ]
  },
  {
   "cell_type": "code",
   "execution_count": 242,
   "id": "ae114e3e-4b6a-48d4-b0ad-dba2ead9e44d",
   "metadata": {},
   "outputs": [],
   "source": [
    "#Добавление итоговой суммы покупки с учетом использования промокода\n",
    "df['revenue_with_promo_code'] = df.apply(lambda x: 0.9 * x.revenue if x.promo_code == 1 and not pd.isna(x.revenue) else x.revenue, axis=1)"
   ]
  },
  {
   "cell_type": "code",
   "execution_count": 243,
   "id": "53e1b10f-20b5-4250-89df-1f626de67f2b",
   "metadata": {},
   "outputs": [],
   "source": [
    "#Обозначение платящих пользователей\n",
    "df['payer'] = df['revenue'].apply(lambda x: 1 if not pd.isna(x) else 0)"
   ]
  },
  {
   "cell_type": "code",
   "execution_count": null,
   "id": "c271d041-6eb8-419b-b71e-3ea02617c143",
   "metadata": {},
   "outputs": [],
   "source": [
    "df['time_of_day'] = df.apply(time, axis=1)"
   ]
  },
  {
   "cell_type": "code",
   "execution_count": null,
   "id": "3b174fdf-c864-4558-98b6-603ed18a2396",
   "metadata": {},
   "outputs": [],
   "source": [
    "df"
   ]
  },
  {
   "cell_type": "code",
   "execution_count": null,
   "id": "aebdaceb-69d8-43bd-b0d1-4fb3f1fa41b1",
   "metadata": {},
   "outputs": [],
   "source": []
  },
  {
   "cell_type": "code",
   "execution_count": 222,
   "id": "0bcdf4a4-ef79-4147-a68b-00fd0b42a9be",
   "metadata": {},
   "outputs": [],
   "source": [
    "df.to_csv(\"res.csv\", index=False)"
   ]
  },
  {
   "cell_type": "code",
   "execution_count": 223,
   "id": "510578a2-06ef-4a0d-8569-ae6665200ee2",
   "metadata": {},
   "outputs": [],
   "source": [
    "df = pd.read_csv(\"res.csv\", sep=\",\", decimal='.')"
   ]
  },
  {
   "cell_type": "code",
   "execution_count": null,
   "id": "5b7a442c-6bf2-4c84-8642-1bba2c8dcb2c",
   "metadata": {},
   "outputs": [],
   "source": []
  }
 ],
 "metadata": {
  "kernelspec": {
   "display_name": "Python 3 (ipykernel)",
   "language": "python",
   "name": "python3"
  },
  "language_info": {
   "codemirror_mode": {
    "name": "ipython",
    "version": 3
   },
   "file_extension": ".py",
   "mimetype": "text/x-python",
   "name": "python",
   "nbconvert_exporter": "python",
   "pygments_lexer": "ipython3",
   "version": "3.9.10"
  }
 },
 "nbformat": 4,
 "nbformat_minor": 5
}
