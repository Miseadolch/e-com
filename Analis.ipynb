{
 "cells": [
  {
   "cell_type": "code",
   "execution_count": 202,
   "id": "7c9e368a-d7c9-46f9-9c97-4993f2539a57",
   "metadata": {},
   "outputs": [],
   "source": [
    "import pandas as pd\n",
    "import numpy as np\n",
    "import chardet\n",
    "import matplotlib.pyplot as plt\n",
    "import seaborn as sns\n",
    "import datetime\n",
    "from sklearn.model_selection import train_test_split\n",
    "from sklearn.linear_model import LinearRegression\n",
    "from sklearn.preprocessing import OneHotEncoder\n",
    "from sklearn.metrics import r2_score, mean_absolute_error, mean_squared_error, mean_absolute_percentage_error"
   ]
  },
  {
   "cell_type": "code",
   "execution_count": 203,
   "id": "601e85f2-06d0-4190-bbde-50d1d2aca94b",
   "metadata": {},
   "outputs": [],
   "source": [
    "df = pd.read_csv(\"ecom_yl.csv\", sep=\",\", decimal='.')"
   ]
  },
  {
   "cell_type": "code",
   "execution_count": 204,
   "id": "9b862c3a-7b7c-43a1-ba5a-6f935ccaf5d5",
   "metadata": {},
   "outputs": [
    {
     "data": {
      "text/plain": [
       "Index(['user_id', 'region', 'device', 'channel', 'session_start',\n",
       "       'session_end', 'sessiondurationsec', 'session_date', 'month', 'day',\n",
       "       'hour_of_day', 'order_dt', 'revenue', 'payment_type', 'promo_code'],\n",
       "      dtype='object')"
      ]
     },
     "execution_count": 204,
     "metadata": {},
     "output_type": "execute_result"
    }
   ],
   "source": [
    "#приводим названия столбцов в формат PEP8\n",
    "\n",
    "df.columns = df.columns.str.lower().str.replace(' ', '_')\n",
    "df.columns"
   ]
  },
  {
   "cell_type": "code",
   "execution_count": 205,
   "id": "7d63fb76-9a87-404e-9d4e-4ef6132ed1ef",
   "metadata": {},
   "outputs": [],
   "source": [
    "def time(row):\n",
    "    times = {\n",
    "        'morning': [datetime.time(hour=6), datetime.time(hour=9, minute=59)],\n",
    "        'day': [datetime.time(hour=10), datetime.time(hour=16, minute=59)],\n",
    "        'evening': [datetime.time(hour=17), datetime.time(hour=21, minute=59)],\n",
    "        'night': [datetime.time(hour=22), datetime.time(hour=5, minute=59)]\n",
    "    }\n",
    "    a = row.session_start.time\n",
    "    b = row.session_end.time\n",
    "    for i in times.keys:\n",
    "        if a >= times[i][0] and b <= times[i][1]:\n",
    "            return i\n",
    "        if a >= times[i][0] and b > times[i][1]:\n",
    "            if row.sessiondurationsec / 2 <= (times[i][1] - a).seconds:\n",
    "                return i\n",
    "        if a <= times[i][0] and b >= times[i][1]:\n",
    "            return i\n",
    "        if a < times[i][0] and b <= times[i][1]:\n",
    "            if row.sessiondurationsec / 2 <= (b - times[i][0]).seconds:\n",
    "                return i"
   ]
  },
  {
   "cell_type": "code",
   "execution_count": 206,
   "id": "ac2853ff-c346-47ba-9a4f-41ef5a097d0c",
   "metadata": {},
   "outputs": [
    {
     "data": {
      "text/plain": [
       "array(['United States', 'France', 'Germany', 'UK', nan], dtype=object)"
      ]
     },
     "execution_count": 206,
     "metadata": {},
     "output_type": "execute_result"
    }
   ],
   "source": [
    "#исправляем неправильные названия в region\n",
    "\n",
    "dict_regions = {'United States':'United States', 'Frаnce':'France', 'Unjted States' : 'United States', 'Germany' : 'Germany', \n",
    "               'UK' : 'UK', 'France':'France', 'Frаncе': 'France', 'germany':'Germany', 'UК':'UK'}\n",
    "df[\"region\"] = df[\"region\"].map(dict_regions)\n",
    "df[\"region\"].unique()"
   ]
  },
  {
   "cell_type": "code",
   "execution_count": 207,
   "id": "1353c8c7-e865-4538-8fa1-43164b4888b9",
   "metadata": {},
   "outputs": [
    {
     "data": {
      "text/plain": [
       "array(['социальные сети', 'organic', 'реклама у блогеров',\n",
       "       'контекстная реклама', 'email-рассылки', nan], dtype=object)"
      ]
     },
     "execution_count": 207,
     "metadata": {},
     "output_type": "execute_result"
    }
   ],
   "source": [
    "#исправляем неправильные названия в channel\n",
    "\n",
    "dict_channels = {'социальные сети' : 'социальные сети', 'organic':'organic', 'реклама у блогеров':'реклама у блогеров', \n",
    "                 'контексная реклама' : 'контекстная реклама', 'контекстная реклама':'контекстная реклама', 'email-рассылки':'email-рассылки'}\n",
    "df[\"channel\"] = df[\"channel\"].map(dict_channels)\n",
    "df[\"channel\"].unique()"
   ]
  },
  {
   "cell_type": "code",
   "execution_count": 208,
   "id": "134c1f8f-09f8-4474-b51d-cc1fd22ae07d",
   "metadata": {},
   "outputs": [
    {
     "data": {
      "text/plain": [
       "array(['iPhone', 'PC', 'Mac', 'Android', nan], dtype=object)"
      ]
     },
     "execution_count": 208,
     "metadata": {},
     "output_type": "execute_result"
    }
   ],
   "source": [
    "#исправляем неправильные названия в device\n",
    "\n",
    "dict_devices = {'iPhone' : 'iPhone', 'PC' : 'PC', 'Mac' : 'Mac', 'Android' : 'Android', 'android' : 'Android'}\n",
    "df[\"device\"] = df[\"device\"].map(dict_devices)\n",
    "df[\"device\"].unique()"
   ]
  },
  {
   "cell_type": "code",
   "execution_count": 209,
   "id": "24cf0955-9f8f-408d-8227-683aa892099c",
   "metadata": {},
   "outputs": [],
   "source": [
    "#убираем выбросы у SessionDuration с помощью 3-ного интерквартильного размаха\n",
    "\n",
    "def transformed(x):\n",
    "    i_quant = x.quantile(0.75) - x.quantile(0.25)\n",
    "    k = x > (x.quantile(0.75) + i_quant * 3)\n",
    "    x[k] = x.median()\n",
    "    return x\n",
    "    \n",
    "df[\"sessiondurationsec\"] = df.groupby(\"channel\", group_keys=False)[\"sessiondurationsec\"].transform(transformed)\n",
    "df['revenue'] = df['revenue'].apply(lambda x: 4999 if (x == 100000) or (x == 1) else x)"
   ]
  },
  {
   "cell_type": "code",
   "execution_count": 210,
   "id": "11a4a757-1cc3-465b-b654-891a4aab8f0b",
   "metadata": {},
   "outputs": [],
   "source": [
    "#переводим даты из строкого формата в datetime\n",
    "\n",
    "df['session_start'] = pd.to_datetime(df['session_start'])\n",
    "df['session_end'] = pd.to_datetime(df['session_end'])"
   ]
  },
  {
   "cell_type": "code",
   "execution_count": 211,
   "id": "6cbf92e1-23fc-478f-ace7-188c91a0a166",
   "metadata": {},
   "outputs": [],
   "source": [
    "#заполняем пропуски в SessionDurationSec\n",
    "\n",
    "df['sessiondurationsec'] = (df['session_end'] - df['session_start']).dt.total_seconds()"
   ]
  },
  {
   "cell_type": "code",
   "execution_count": 212,
   "id": "709ccea8-2748-4b56-884c-1d35de842267",
   "metadata": {},
   "outputs": [],
   "source": [
    "#Удаляем сессии длящиеся 5 секунд и меньше, в которых не было покупок\n",
    "\n",
    "df = df[(df[\"sessiondurationsec\"] > 5) | ((df[\"sessiondurationsec\"] <= 5) & (df['revenue'].notna()))]"
   ]
  },
  {
   "cell_type": "code",
   "execution_count": 213,
   "id": "af290d44-a34f-4f08-baeb-93402c4d5e80",
   "metadata": {},
   "outputs": [],
   "source": [
    "# число явных дубликатов и их удаление\n",
    "i_see_it = len(df) - len(df.drop_duplicates())\n",
    "#print(i_see_it) -> 3\n",
    "df = df.drop_duplicates()"
   ]
  },
  {
   "cell_type": "code",
   "execution_count": 214,
   "id": "a8e89042-3a29-4144-bdf1-314e0db71bd9",
   "metadata": {},
   "outputs": [],
   "source": [
    "# заполнение пропусков\n",
    "stupid_nans = df.groupby(['month'])['region']\n",
    "df['region'] = df['region'].fillna(lambda x: stupid_nans[x])\n",
    "stupid_nans = df.groupby(['month'])['device']\n",
    "df['device'] = df['device'].fillna(lambda x: stupid_nans[x])\n",
    "stupid_nans = df.groupby(['month'])['channel']\n",
    "df['channel'] = df['channel'].fillna(lambda x: stupid_nans[x])"
   ]
  },
  {
   "cell_type": "code",
   "execution_count": 215,
   "id": "ef6ac091-ef6a-4a6a-af98-d1580976b698",
   "metadata": {},
   "outputs": [],
   "source": [
    "#очищение неправильных данных в promo_code\n",
    "df['promo_code'] = df['promo_code'].map(lambda x: 1 if not pd.isna(x) and x else x)"
   ]
  },
  {
   "cell_type": "code",
   "execution_count": 216,
   "id": "ae114e3e-4b6a-48d4-b0ad-dba2ead9e44d",
   "metadata": {},
   "outputs": [],
   "source": [
    "#Добавление итоговой суммы покупки с учетом использования промокода\n",
    "df['revenue_with_promo_code'] = df.apply(lambda x: 0.9 * x.revenue if x.promo_code == 1 and not pd.isna(x.revenue) else x.revenue, axis=1)"
   ]
  },
  {
   "cell_type": "code",
   "execution_count": 217,
   "id": "53e1b10f-20b5-4250-89df-1f626de67f2b",
   "metadata": {},
   "outputs": [],
   "source": [
    "#Обозначение платящих пользователей\n",
    "df['payer'] = df['revenue'].apply(lambda x: 1 if not pd.isna(x) else 0)"
   ]
  },
  {
   "cell_type": "code",
   "execution_count": 218,
   "id": "cca02df3-e22d-4cea-86da-b4d74857b8af",
   "metadata": {},
   "outputs": [
    {
     "ename": "TypeError",
     "evalue": "'builtin_function_or_method' object is not iterable",
     "output_type": "error",
     "traceback": [
      "\u001b[1;31m---------------------------------------------------------------------------\u001b[0m",
      "\u001b[1;31mTypeError\u001b[0m                                 Traceback (most recent call last)",
      "Cell \u001b[1;32mIn[218], line 1\u001b[0m\n\u001b[1;32m----> 1\u001b[0m df[\u001b[38;5;124m'\u001b[39m\u001b[38;5;124mtime_of_day\u001b[39m\u001b[38;5;124m'\u001b[39m] \u001b[38;5;241m=\u001b[39m \u001b[43mdf\u001b[49m\u001b[38;5;241;43m.\u001b[39;49m\u001b[43mapply\u001b[49m\u001b[43m(\u001b[49m\u001b[43mtime\u001b[49m\u001b[43m,\u001b[49m\u001b[43m \u001b[49m\u001b[43maxis\u001b[49m\u001b[38;5;241;43m=\u001b[39;49m\u001b[38;5;241;43m1\u001b[39;49m\u001b[43m)\u001b[49m\n",
      "File \u001b[1;32m~\\PycharmProjects\\Data_Analis\\venv\\lib\\site-packages\\pandas\\core\\frame.py:10037\u001b[0m, in \u001b[0;36mDataFrame.apply\u001b[1;34m(self, func, axis, raw, result_type, args, by_row, **kwargs)\u001b[0m\n\u001b[0;32m  10025\u001b[0m \u001b[38;5;28;01mfrom\u001b[39;00m \u001b[38;5;21;01mpandas\u001b[39;00m\u001b[38;5;21;01m.\u001b[39;00m\u001b[38;5;21;01mcore\u001b[39;00m\u001b[38;5;21;01m.\u001b[39;00m\u001b[38;5;21;01mapply\u001b[39;00m \u001b[38;5;28;01mimport\u001b[39;00m frame_apply\n\u001b[0;32m  10027\u001b[0m op \u001b[38;5;241m=\u001b[39m frame_apply(\n\u001b[0;32m  10028\u001b[0m     \u001b[38;5;28mself\u001b[39m,\n\u001b[0;32m  10029\u001b[0m     func\u001b[38;5;241m=\u001b[39mfunc,\n\u001b[1;32m   (...)\u001b[0m\n\u001b[0;32m  10035\u001b[0m     kwargs\u001b[38;5;241m=\u001b[39mkwargs,\n\u001b[0;32m  10036\u001b[0m )\n\u001b[1;32m> 10037\u001b[0m \u001b[38;5;28;01mreturn\u001b[39;00m \u001b[43mop\u001b[49m\u001b[38;5;241;43m.\u001b[39;49m\u001b[43mapply\u001b[49m\u001b[43m(\u001b[49m\u001b[43m)\u001b[49m\u001b[38;5;241m.\u001b[39m__finalize__(\u001b[38;5;28mself\u001b[39m, method\u001b[38;5;241m=\u001b[39m\u001b[38;5;124m\"\u001b[39m\u001b[38;5;124mapply\u001b[39m\u001b[38;5;124m\"\u001b[39m)\n",
      "File \u001b[1;32m~\\PycharmProjects\\Data_Analis\\venv\\lib\\site-packages\\pandas\\core\\apply.py:837\u001b[0m, in \u001b[0;36mFrameApply.apply\u001b[1;34m(self)\u001b[0m\n\u001b[0;32m    834\u001b[0m \u001b[38;5;28;01melif\u001b[39;00m \u001b[38;5;28mself\u001b[39m\u001b[38;5;241m.\u001b[39mraw:\n\u001b[0;32m    835\u001b[0m     \u001b[38;5;28;01mreturn\u001b[39;00m \u001b[38;5;28mself\u001b[39m\u001b[38;5;241m.\u001b[39mapply_raw()\n\u001b[1;32m--> 837\u001b[0m \u001b[38;5;28;01mreturn\u001b[39;00m \u001b[38;5;28;43mself\u001b[39;49m\u001b[38;5;241;43m.\u001b[39;49m\u001b[43mapply_standard\u001b[49m\u001b[43m(\u001b[49m\u001b[43m)\u001b[49m\n",
      "File \u001b[1;32m~\\PycharmProjects\\Data_Analis\\venv\\lib\\site-packages\\pandas\\core\\apply.py:963\u001b[0m, in \u001b[0;36mFrameApply.apply_standard\u001b[1;34m(self)\u001b[0m\n\u001b[0;32m    962\u001b[0m \u001b[38;5;28;01mdef\u001b[39;00m \u001b[38;5;21mapply_standard\u001b[39m(\u001b[38;5;28mself\u001b[39m):\n\u001b[1;32m--> 963\u001b[0m     results, res_index \u001b[38;5;241m=\u001b[39m \u001b[38;5;28;43mself\u001b[39;49m\u001b[38;5;241;43m.\u001b[39;49m\u001b[43mapply_series_generator\u001b[49m\u001b[43m(\u001b[49m\u001b[43m)\u001b[49m\n\u001b[0;32m    965\u001b[0m     \u001b[38;5;66;03m# wrap results\u001b[39;00m\n\u001b[0;32m    966\u001b[0m     \u001b[38;5;28;01mreturn\u001b[39;00m \u001b[38;5;28mself\u001b[39m\u001b[38;5;241m.\u001b[39mwrap_results(results, res_index)\n",
      "File \u001b[1;32m~\\PycharmProjects\\Data_Analis\\venv\\lib\\site-packages\\pandas\\core\\apply.py:979\u001b[0m, in \u001b[0;36mFrameApply.apply_series_generator\u001b[1;34m(self)\u001b[0m\n\u001b[0;32m    976\u001b[0m \u001b[38;5;28;01mwith\u001b[39;00m option_context(\u001b[38;5;124m\"\u001b[39m\u001b[38;5;124mmode.chained_assignment\u001b[39m\u001b[38;5;124m\"\u001b[39m, \u001b[38;5;28;01mNone\u001b[39;00m):\n\u001b[0;32m    977\u001b[0m     \u001b[38;5;28;01mfor\u001b[39;00m i, v \u001b[38;5;129;01min\u001b[39;00m \u001b[38;5;28menumerate\u001b[39m(series_gen):\n\u001b[0;32m    978\u001b[0m         \u001b[38;5;66;03m# ignore SettingWithCopy here in case the user mutates\u001b[39;00m\n\u001b[1;32m--> 979\u001b[0m         results[i] \u001b[38;5;241m=\u001b[39m \u001b[38;5;28mself\u001b[39m\u001b[38;5;241m.\u001b[39mfunc(v, \u001b[38;5;241m*\u001b[39m\u001b[38;5;28mself\u001b[39m\u001b[38;5;241m.\u001b[39margs, \u001b[38;5;241m*\u001b[39m\u001b[38;5;241m*\u001b[39m\u001b[38;5;28mself\u001b[39m\u001b[38;5;241m.\u001b[39mkwargs)\n\u001b[0;32m    980\u001b[0m         \u001b[38;5;28;01mif\u001b[39;00m \u001b[38;5;28misinstance\u001b[39m(results[i], ABCSeries):\n\u001b[0;32m    981\u001b[0m             \u001b[38;5;66;03m# If we have a view on v, we need to make a copy because\u001b[39;00m\n\u001b[0;32m    982\u001b[0m             \u001b[38;5;66;03m#  series_generator will swap out the underlying data\u001b[39;00m\n\u001b[0;32m    983\u001b[0m             results[i] \u001b[38;5;241m=\u001b[39m results[i]\u001b[38;5;241m.\u001b[39mcopy(deep\u001b[38;5;241m=\u001b[39m\u001b[38;5;28;01mFalse\u001b[39;00m)\n",
      "Cell \u001b[1;32mIn[205], line 10\u001b[0m, in \u001b[0;36mtime\u001b[1;34m(row)\u001b[0m\n\u001b[0;32m      8\u001b[0m a \u001b[38;5;241m=\u001b[39m row\u001b[38;5;241m.\u001b[39msession_start\u001b[38;5;241m.\u001b[39mtime\n\u001b[0;32m      9\u001b[0m b \u001b[38;5;241m=\u001b[39m row\u001b[38;5;241m.\u001b[39msession_end\u001b[38;5;241m.\u001b[39mtime\n\u001b[1;32m---> 10\u001b[0m \u001b[38;5;28;01mfor\u001b[39;00m i \u001b[38;5;129;01min\u001b[39;00m times\u001b[38;5;241m.\u001b[39mkeys:\n\u001b[0;32m     11\u001b[0m     \u001b[38;5;28;01mif\u001b[39;00m a \u001b[38;5;241m>\u001b[39m\u001b[38;5;241m=\u001b[39m times[i][\u001b[38;5;241m0\u001b[39m] \u001b[38;5;129;01mand\u001b[39;00m b \u001b[38;5;241m<\u001b[39m\u001b[38;5;241m=\u001b[39m times[i][\u001b[38;5;241m1\u001b[39m]:\n\u001b[0;32m     12\u001b[0m         \u001b[38;5;28;01mreturn\u001b[39;00m i\n",
      "\u001b[1;31mTypeError\u001b[0m: 'builtin_function_or_method' object is not iterable"
     ]
    }
   ],
   "source": [
    "df['time_of_day'] = df.apply(time, axis=1)"
   ]
  },
  {
   "cell_type": "code",
   "execution_count": 221,
   "id": "99c45f00-248e-4c63-b19b-d137de403340",
   "metadata": {},
   "outputs": [
    {
     "data": {
      "text/html": [
       "<div>\n",
       "<style scoped>\n",
       "    .dataframe tbody tr th:only-of-type {\n",
       "        vertical-align: middle;\n",
       "    }\n",
       "\n",
       "    .dataframe tbody tr th {\n",
       "        vertical-align: top;\n",
       "    }\n",
       "\n",
       "    .dataframe thead th {\n",
       "        text-align: right;\n",
       "    }\n",
       "</style>\n",
       "<table border=\"1\" class=\"dataframe\">\n",
       "  <thead>\n",
       "    <tr style=\"text-align: right;\">\n",
       "      <th></th>\n",
       "      <th>user_id</th>\n",
       "      <th>region</th>\n",
       "      <th>device</th>\n",
       "      <th>channel</th>\n",
       "      <th>session_start</th>\n",
       "      <th>session_end</th>\n",
       "      <th>sessiondurationsec</th>\n",
       "      <th>session_date</th>\n",
       "      <th>month</th>\n",
       "      <th>day</th>\n",
       "      <th>hour_of_day</th>\n",
       "      <th>order_dt</th>\n",
       "      <th>revenue</th>\n",
       "      <th>payment_type</th>\n",
       "      <th>promo_code</th>\n",
       "      <th>revenue_with_promo_code</th>\n",
       "      <th>payer</th>\n",
       "    </tr>\n",
       "  </thead>\n",
       "  <tbody>\n",
       "    <tr>\n",
       "      <th>0</th>\n",
       "      <td>529697267522</td>\n",
       "      <td>United States</td>\n",
       "      <td>iPhone</td>\n",
       "      <td>социальные сети</td>\n",
       "      <td>2019-05-01 00:06:40</td>\n",
       "      <td>2019-05-01 00:07:06</td>\n",
       "      <td>26.0</td>\n",
       "      <td>2019-05-01</td>\n",
       "      <td>5</td>\n",
       "      <td>3</td>\n",
       "      <td>0</td>\n",
       "      <td>2019-05-01 00:06:40</td>\n",
       "      <td>9999.0</td>\n",
       "      <td>Mobile payments</td>\n",
       "      <td>0.0</td>\n",
       "      <td>9999.0</td>\n",
       "      <td>1</td>\n",
       "    </tr>\n",
       "    <tr>\n",
       "      <th>1</th>\n",
       "      <td>601292388085</td>\n",
       "      <td>United States</td>\n",
       "      <td>PC</td>\n",
       "      <td>organic</td>\n",
       "      <td>2019-05-01 06:56:16</td>\n",
       "      <td>2019-05-01 07:09:18</td>\n",
       "      <td>782.0</td>\n",
       "      <td>2019-05-01</td>\n",
       "      <td>5</td>\n",
       "      <td>3</td>\n",
       "      <td>7</td>\n",
       "      <td>NaN</td>\n",
       "      <td>NaN</td>\n",
       "      <td>NaN</td>\n",
       "      <td>NaN</td>\n",
       "      <td>NaN</td>\n",
       "      <td>0</td>\n",
       "    </tr>\n",
       "    <tr>\n",
       "      <th>2</th>\n",
       "      <td>852898876338</td>\n",
       "      <td>United States</td>\n",
       "      <td>Mac</td>\n",
       "      <td>социальные сети</td>\n",
       "      <td>2019-05-01 04:30:45</td>\n",
       "      <td>2019-05-01 04:34:56</td>\n",
       "      <td>251.0</td>\n",
       "      <td>2019-05-01</td>\n",
       "      <td>5</td>\n",
       "      <td>3</td>\n",
       "      <td>4</td>\n",
       "      <td>NaN</td>\n",
       "      <td>NaN</td>\n",
       "      <td>NaN</td>\n",
       "      <td>NaN</td>\n",
       "      <td>NaN</td>\n",
       "      <td>0</td>\n",
       "    </tr>\n",
       "    <tr>\n",
       "      <th>3</th>\n",
       "      <td>998513020664</td>\n",
       "      <td>United States</td>\n",
       "      <td>iPhone</td>\n",
       "      <td>социальные сети</td>\n",
       "      <td>2019-05-01 18:53:42</td>\n",
       "      <td>2019-05-01 18:57:35</td>\n",
       "      <td>233.0</td>\n",
       "      <td>2019-05-01</td>\n",
       "      <td>5</td>\n",
       "      <td>3</td>\n",
       "      <td>18</td>\n",
       "      <td>NaN</td>\n",
       "      <td>NaN</td>\n",
       "      <td>NaN</td>\n",
       "      <td>NaN</td>\n",
       "      <td>NaN</td>\n",
       "      <td>0</td>\n",
       "    </tr>\n",
       "    <tr>\n",
       "      <th>4</th>\n",
       "      <td>240702200943</td>\n",
       "      <td>United States</td>\n",
       "      <td>Mac</td>\n",
       "      <td>социальные сети</td>\n",
       "      <td>2019-05-02 14:04:32</td>\n",
       "      <td>2019-05-02 14:09:51</td>\n",
       "      <td>319.0</td>\n",
       "      <td>2019-05-02</td>\n",
       "      <td>5</td>\n",
       "      <td>4</td>\n",
       "      <td>14</td>\n",
       "      <td>NaN</td>\n",
       "      <td>NaN</td>\n",
       "      <td>NaN</td>\n",
       "      <td>NaN</td>\n",
       "      <td>NaN</td>\n",
       "      <td>0</td>\n",
       "    </tr>\n",
       "    <tr>\n",
       "      <th>...</th>\n",
       "      <td>...</td>\n",
       "      <td>...</td>\n",
       "      <td>...</td>\n",
       "      <td>...</td>\n",
       "      <td>...</td>\n",
       "      <td>...</td>\n",
       "      <td>...</td>\n",
       "      <td>...</td>\n",
       "      <td>...</td>\n",
       "      <td>...</td>\n",
       "      <td>...</td>\n",
       "      <td>...</td>\n",
       "      <td>...</td>\n",
       "      <td>...</td>\n",
       "      <td>...</td>\n",
       "      <td>...</td>\n",
       "      <td>...</td>\n",
       "    </tr>\n",
       "    <tr>\n",
       "      <th>998</th>\n",
       "      <td>246163171672</td>\n",
       "      <td>United States</td>\n",
       "      <td>iPhone</td>\n",
       "      <td>социальные сети</td>\n",
       "      <td>2019-10-29 18:12:24</td>\n",
       "      <td>2019-10-29 18:13:39</td>\n",
       "      <td>75.0</td>\n",
       "      <td>2019-10-29</td>\n",
       "      <td>10</td>\n",
       "      <td>2</td>\n",
       "      <td>18</td>\n",
       "      <td>NaN</td>\n",
       "      <td>NaN</td>\n",
       "      <td>NaN</td>\n",
       "      <td>NaN</td>\n",
       "      <td>NaN</td>\n",
       "      <td>0</td>\n",
       "    </tr>\n",
       "    <tr>\n",
       "      <th>999</th>\n",
       "      <td>660140862425</td>\n",
       "      <td>Germany</td>\n",
       "      <td>Android</td>\n",
       "      <td>реклама у блогеров</td>\n",
       "      <td>2019-10-30 19:14:02</td>\n",
       "      <td>2019-10-30 19:46:19</td>\n",
       "      <td>1937.0</td>\n",
       "      <td>2019-10-30</td>\n",
       "      <td>10</td>\n",
       "      <td>3</td>\n",
       "      <td>19</td>\n",
       "      <td>NaN</td>\n",
       "      <td>NaN</td>\n",
       "      <td>NaN</td>\n",
       "      <td>NaN</td>\n",
       "      <td>NaN</td>\n",
       "      <td>0</td>\n",
       "    </tr>\n",
       "    <tr>\n",
       "      <th>1000</th>\n",
       "      <td>898253063062</td>\n",
       "      <td>France</td>\n",
       "      <td>iPhone</td>\n",
       "      <td>organic</td>\n",
       "      <td>2019-10-30 03:18:22</td>\n",
       "      <td>2019-10-30 04:43:35</td>\n",
       "      <td>5113.0</td>\n",
       "      <td>2019-10-30</td>\n",
       "      <td>10</td>\n",
       "      <td>3</td>\n",
       "      <td>4</td>\n",
       "      <td>NaN</td>\n",
       "      <td>NaN</td>\n",
       "      <td>NaN</td>\n",
       "      <td>NaN</td>\n",
       "      <td>NaN</td>\n",
       "      <td>0</td>\n",
       "    </tr>\n",
       "    <tr>\n",
       "      <th>1001</th>\n",
       "      <td>780224321316</td>\n",
       "      <td>United States</td>\n",
       "      <td>iPhone</td>\n",
       "      <td>социальные сети</td>\n",
       "      <td>2019-10-31 22:56:17</td>\n",
       "      <td>2019-10-31 23:42:27</td>\n",
       "      <td>2770.0</td>\n",
       "      <td>2019-10-31</td>\n",
       "      <td>10</td>\n",
       "      <td>4</td>\n",
       "      <td>23</td>\n",
       "      <td>NaN</td>\n",
       "      <td>NaN</td>\n",
       "      <td>NaN</td>\n",
       "      <td>NaN</td>\n",
       "      <td>NaN</td>\n",
       "      <td>0</td>\n",
       "    </tr>\n",
       "    <tr>\n",
       "      <th>1002</th>\n",
       "      <td>660481970221</td>\n",
       "      <td>United States</td>\n",
       "      <td>Android</td>\n",
       "      <td>organic</td>\n",
       "      <td>2019-10-31 16:05:38</td>\n",
       "      <td>2019-10-31 16:07:26</td>\n",
       "      <td>108.0</td>\n",
       "      <td>2019-10-31</td>\n",
       "      <td>10</td>\n",
       "      <td>4</td>\n",
       "      <td>16</td>\n",
       "      <td>2019-10-31 16:05:38</td>\n",
       "      <td>4999.0</td>\n",
       "      <td>Cash</td>\n",
       "      <td>0.0</td>\n",
       "      <td>4999.0</td>\n",
       "      <td>1</td>\n",
       "    </tr>\n",
       "  </tbody>\n",
       "</table>\n",
       "<p>1003 rows × 17 columns</p>\n",
       "</div>"
      ],
      "text/plain": [
       "           user_id         region   device             channel  \\\n",
       "0     529697267522  United States   iPhone     социальные сети   \n",
       "1     601292388085  United States       PC             organic   \n",
       "2     852898876338  United States      Mac     социальные сети   \n",
       "3     998513020664  United States   iPhone     социальные сети   \n",
       "4     240702200943  United States      Mac     социальные сети   \n",
       "...            ...            ...      ...                 ...   \n",
       "998   246163171672  United States   iPhone     социальные сети   \n",
       "999   660140862425        Germany  Android  реклама у блогеров   \n",
       "1000  898253063062         France   iPhone             organic   \n",
       "1001  780224321316  United States   iPhone     социальные сети   \n",
       "1002  660481970221  United States  Android             organic   \n",
       "\n",
       "            session_start          session_end  sessiondurationsec  \\\n",
       "0     2019-05-01 00:06:40  2019-05-01 00:07:06                26.0   \n",
       "1     2019-05-01 06:56:16  2019-05-01 07:09:18               782.0   \n",
       "2     2019-05-01 04:30:45  2019-05-01 04:34:56               251.0   \n",
       "3     2019-05-01 18:53:42  2019-05-01 18:57:35               233.0   \n",
       "4     2019-05-02 14:04:32  2019-05-02 14:09:51               319.0   \n",
       "...                   ...                  ...                 ...   \n",
       "998   2019-10-29 18:12:24  2019-10-29 18:13:39                75.0   \n",
       "999   2019-10-30 19:14:02  2019-10-30 19:46:19              1937.0   \n",
       "1000  2019-10-30 03:18:22  2019-10-30 04:43:35              5113.0   \n",
       "1001  2019-10-31 22:56:17  2019-10-31 23:42:27              2770.0   \n",
       "1002  2019-10-31 16:05:38  2019-10-31 16:07:26               108.0   \n",
       "\n",
       "     session_date  month  day  hour_of_day             order_dt  revenue  \\\n",
       "0      2019-05-01      5    3            0  2019-05-01 00:06:40   9999.0   \n",
       "1      2019-05-01      5    3            7                  NaN      NaN   \n",
       "2      2019-05-01      5    3            4                  NaN      NaN   \n",
       "3      2019-05-01      5    3           18                  NaN      NaN   \n",
       "4      2019-05-02      5    4           14                  NaN      NaN   \n",
       "...           ...    ...  ...          ...                  ...      ...   \n",
       "998    2019-10-29     10    2           18                  NaN      NaN   \n",
       "999    2019-10-30     10    3           19                  NaN      NaN   \n",
       "1000   2019-10-30     10    3            4                  NaN      NaN   \n",
       "1001   2019-10-31     10    4           23                  NaN      NaN   \n",
       "1002   2019-10-31     10    4           16  2019-10-31 16:05:38   4999.0   \n",
       "\n",
       "         payment_type  promo_code  revenue_with_promo_code  payer  \n",
       "0     Mobile payments         0.0                   9999.0      1  \n",
       "1                 NaN         NaN                      NaN      0  \n",
       "2                 NaN         NaN                      NaN      0  \n",
       "3                 NaN         NaN                      NaN      0  \n",
       "4                 NaN         NaN                      NaN      0  \n",
       "...               ...         ...                      ...    ...  \n",
       "998               NaN         NaN                      NaN      0  \n",
       "999               NaN         NaN                      NaN      0  \n",
       "1000              NaN         NaN                      NaN      0  \n",
       "1001              NaN         NaN                      NaN      0  \n",
       "1002             Cash         0.0                   4999.0      1  \n",
       "\n",
       "[1003 rows x 17 columns]"
      ]
     },
     "execution_count": 221,
     "metadata": {},
     "output_type": "execute_result"
    }
   ],
   "source": [
    "df"
   ]
  },
  {
   "cell_type": "code",
   "execution_count": null,
   "id": "3b174fdf-c864-4558-98b6-603ed18a2396",
   "metadata": {},
   "outputs": [],
   "source": []
  },
  {
   "cell_type": "code",
   "execution_count": null,
   "id": "aebdaceb-69d8-43bd-b0d1-4fb3f1fa41b1",
   "metadata": {},
   "outputs": [],
   "source": []
  },
  {
   "cell_type": "code",
   "execution_count": 222,
   "id": "0bcdf4a4-ef79-4147-a68b-00fd0b42a9be",
   "metadata": {},
   "outputs": [],
   "source": [
    "df.to_csv(\"res.csv\", index=False)"
   ]
  },
  {
   "cell_type": "code",
   "execution_count": 223,
   "id": "510578a2-06ef-4a0d-8569-ae6665200ee2",
   "metadata": {},
   "outputs": [],
   "source": [
    "df = pd.read_csv(\"res.csv\", sep=\",\", decimal='.')"
   ]
  },
  {
   "cell_type": "code",
   "execution_count": null,
   "id": "5b7a442c-6bf2-4c84-8642-1bba2c8dcb2c",
   "metadata": {},
   "outputs": [],
   "source": []
  }
 ],
 "metadata": {
  "kernelspec": {
   "display_name": "Python 3 (ipykernel)",
   "language": "python",
   "name": "python3"
  },
  "language_info": {
   "codemirror_mode": {
    "name": "ipython",
    "version": 3
   },
   "file_extension": ".py",
   "mimetype": "text/x-python",
   "name": "python",
   "nbconvert_exporter": "python",
   "pygments_lexer": "ipython3",
   "version": "3.9.10"
  }
 },
 "nbformat": 4,
 "nbformat_minor": 5
}
